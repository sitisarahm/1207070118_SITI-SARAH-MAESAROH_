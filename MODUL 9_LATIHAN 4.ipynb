{
 "cells": [
  {
   "cell_type": "code",
   "execution_count": 5,
   "id": "ba4b950e",
   "metadata": {},
   "outputs": [
    {
     "data": {
      "text/plain": [
       "-1"
      ]
     },
     "execution_count": 5,
     "metadata": {},
     "output_type": "execute_result"
    }
   ],
   "source": [
    "import cv2\n",
    "\n",
    "#load citra\n",
    "img = cv2.imread('bunglon.jpg',0)\n",
    "\n",
    "#aplikasikan laplacian\n",
    "blur = cv2.GaussianBlur(img,(3,3),0)\n",
    "\n",
    "#aplikasikan laplacian\n",
    "laplacian = cv2.Laplacian(blur,cv2.CV_64F)\n",
    "laplacian1 = laplacian/laplacian.max()\n",
    "\n",
    "cv2.imshow('laplacian-gaussian',laplacian1)\n",
    "cv2.waitKey(0)"
   ]
  }
 ],
 "metadata": {
  "kernelspec": {
   "display_name": "Python 3 (ipykernel)",
   "language": "python",
   "name": "python3"
  },
  "language_info": {
   "codemirror_mode": {
    "name": "ipython",
    "version": 3
   },
   "file_extension": ".py",
   "mimetype": "text/x-python",
   "name": "python",
   "nbconvert_exporter": "python",
   "pygments_lexer": "ipython3",
   "version": "3.8.10"
  }
 },
 "nbformat": 4,
 "nbformat_minor": 5
}
